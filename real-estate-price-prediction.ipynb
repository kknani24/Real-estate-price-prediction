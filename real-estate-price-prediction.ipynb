{
 "cells": [
  {
   "cell_type": "code",
   "execution_count": null,
   "metadata": {
    "execution": {
     "iopub.execute_input": "2024-06-21T18:46:45.760590Z",
     "iopub.status.busy": "2024-06-21T18:46:45.759707Z",
     "iopub.status.idle": "2024-06-21T18:46:48.553762Z",
     "shell.execute_reply": "2024-06-21T18:46:48.552605Z",
     "shell.execute_reply.started": "2024-06-21T18:46:45.760546Z"
    },
    "trusted": true
   },
   "outputs": [],
   "source": [
    "import pandas as pd\n",
    "import numpy as np\n",
    "import seaborn as sns\n",
    "import matplotlib.pyplot as plt\n",
    "%matplotlib inline\n",
    "import matplotlib\n",
    "import warnings\n",
    "warnings.filterwarnings('ignore')\n",
    "matplotlib.rcParams[\"figure.figsize\"] = (20,10)"
   ]
  },
  {
   "cell_type": "code",
   "execution_count": null,
   "metadata": {
    "execution": {
     "iopub.execute_input": "2024-06-21T18:46:48.557176Z",
     "iopub.status.busy": "2024-06-21T18:46:48.556273Z",
     "iopub.status.idle": "2024-06-21T18:46:48.631480Z",
     "shell.execute_reply": "2024-06-21T18:46:48.629905Z",
     "shell.execute_reply.started": "2024-06-21T18:46:48.557132Z"
    },
    "trusted": true
   },
   "outputs": [],
   "source": [
    "df1 = pd.read_csv('Path to your dataset')"
   ]
  },
  {
   "cell_type": "code",
   "execution_count": null,
   "metadata": {
    "execution": {
     "iopub.execute_input": "2024-06-21T18:46:48.633740Z",
     "iopub.status.busy": "2024-06-21T18:46:48.633275Z",
     "iopub.status.idle": "2024-06-21T18:46:48.666076Z",
     "shell.execute_reply": "2024-06-21T18:46:48.664580Z",
     "shell.execute_reply.started": "2024-06-21T18:46:48.633698Z"
    },
    "trusted": true
   },
   "outputs": [],
   "source": [
    "df1.head()"
   ]
  },
  {
   "cell_type": "code",
   "execution_count": null,
   "metadata": {
    "execution": {
     "iopub.execute_input": "2024-06-21T18:46:48.673156Z",
     "iopub.status.busy": "2024-06-21T18:46:48.672168Z",
     "iopub.status.idle": "2024-06-21T18:46:48.683933Z",
     "shell.execute_reply": "2024-06-21T18:46:48.682607Z",
     "shell.execute_reply.started": "2024-06-21T18:46:48.673109Z"
    },
    "trusted": true
   },
   "outputs": [],
   "source": [
    "df1.shape"
   ]
  },
  {
   "cell_type": "code",
   "execution_count": null,
   "metadata": {
    "execution": {
     "iopub.execute_input": "2024-06-21T18:46:48.686454Z",
     "iopub.status.busy": "2024-06-21T18:46:48.685618Z",
     "iopub.status.idle": "2024-06-21T18:46:48.704392Z",
     "shell.execute_reply": "2024-06-21T18:46:48.703137Z",
     "shell.execute_reply.started": "2024-06-21T18:46:48.686411Z"
    },
    "trusted": true
   },
   "outputs": [],
   "source": [
    "df2 = df1.groupby('area_type')['area_type'].agg('count')"
   ]
  },
  {
   "cell_type": "code",
   "execution_count": null,
   "metadata": {
    "execution": {
     "iopub.execute_input": "2024-06-21T18:46:48.707193Z",
     "iopub.status.busy": "2024-06-21T18:46:48.706339Z",
     "iopub.status.idle": "2024-06-21T18:46:48.718995Z",
     "shell.execute_reply": "2024-06-21T18:46:48.716152Z",
     "shell.execute_reply.started": "2024-06-21T18:46:48.707148Z"
    },
    "trusted": true
   },
   "outputs": [],
   "source": [
    "df2.head()"
   ]
  },
  {
   "cell_type": "code",
   "execution_count": null,
   "metadata": {
    "execution": {
     "iopub.execute_input": "2024-06-21T18:46:48.721838Z",
     "iopub.status.busy": "2024-06-21T18:46:48.720926Z",
     "iopub.status.idle": "2024-06-21T18:46:48.739618Z",
     "shell.execute_reply": "2024-06-21T18:46:48.738445Z",
     "shell.execute_reply.started": "2024-06-21T18:46:48.721771Z"
    },
    "trusted": true
   },
   "outputs": [],
   "source": [
    "df2 = df1.drop (['area_type', 'society','balcony','availability'], axis = 'columns')"
   ]
  },
  {
   "cell_type": "code",
   "execution_count": null,
   "metadata": {
    "execution": {
     "iopub.execute_input": "2024-06-21T18:46:48.742576Z",
     "iopub.status.busy": "2024-06-21T18:46:48.741716Z",
     "iopub.status.idle": "2024-06-21T18:46:48.765226Z",
     "shell.execute_reply": "2024-06-21T18:46:48.763895Z",
     "shell.execute_reply.started": "2024-06-21T18:46:48.742533Z"
    },
    "trusted": true
   },
   "outputs": [],
   "source": [
    "df2.head()"
   ]
  },
  {
   "cell_type": "code",
   "execution_count": null,
   "metadata": {
    "execution": {
     "iopub.execute_input": "2024-06-21T18:46:48.768502Z",
     "iopub.status.busy": "2024-06-21T18:46:48.767424Z",
     "iopub.status.idle": "2024-06-21T18:46:48.790193Z",
     "shell.execute_reply": "2024-06-21T18:46:48.788724Z",
     "shell.execute_reply.started": "2024-06-21T18:46:48.768437Z"
    },
    "trusted": true
   },
   "outputs": [],
   "source": [
    "df2.isnull().sum()"
   ]
  },
  {
   "cell_type": "code",
   "execution_count": null,
   "metadata": {
    "execution": {
     "iopub.execute_input": "2024-06-21T18:46:48.795673Z",
     "iopub.status.busy": "2024-06-21T18:46:48.794316Z",
     "iopub.status.idle": "2024-06-21T18:46:48.819342Z",
     "shell.execute_reply": "2024-06-21T18:46:48.817896Z",
     "shell.execute_reply.started": "2024-06-21T18:46:48.795633Z"
    },
    "trusted": true
   },
   "outputs": [],
   "source": [
    "df3 = df2.dropna()\n",
    "df3.isnull().sum()\n"
   ]
  },
  {
   "cell_type": "code",
   "execution_count": null,
   "metadata": {
    "execution": {
     "iopub.execute_input": "2024-06-21T18:46:48.822296Z",
     "iopub.status.busy": "2024-06-21T18:46:48.821847Z",
     "iopub.status.idle": "2024-06-21T18:46:48.831074Z",
     "shell.execute_reply": "2024-06-21T18:46:48.829744Z",
     "shell.execute_reply.started": "2024-06-21T18:46:48.822256Z"
    },
    "trusted": true
   },
   "outputs": [],
   "source": [
    "df3.shape"
   ]
  },
  {
   "cell_type": "code",
   "execution_count": null,
   "metadata": {
    "execution": {
     "iopub.execute_input": "2024-06-21T18:46:48.833959Z",
     "iopub.status.busy": "2024-06-21T18:46:48.833501Z",
     "iopub.status.idle": "2024-06-21T18:46:48.847093Z",
     "shell.execute_reply": "2024-06-21T18:46:48.845600Z",
     "shell.execute_reply.started": "2024-06-21T18:46:48.833919Z"
    },
    "trusted": true
   },
   "outputs": [],
   "source": [
    "df3['size'].unique()"
   ]
  },
  {
   "cell_type": "code",
   "execution_count": null,
   "metadata": {
    "execution": {
     "iopub.execute_input": "2024-06-21T18:46:48.849577Z",
     "iopub.status.busy": "2024-06-21T18:46:48.849137Z",
     "iopub.status.idle": "2024-06-21T18:46:48.868651Z",
     "shell.execute_reply": "2024-06-21T18:46:48.867496Z",
     "shell.execute_reply.started": "2024-06-21T18:46:48.849535Z"
    },
    "trusted": true
   },
   "outputs": [],
   "source": [
    "df3['bhk'] = df3['size'].apply(lambda x: int(x.split(' ')[0]))"
   ]
  },
  {
   "cell_type": "code",
   "execution_count": null,
   "metadata": {
    "execution": {
     "iopub.execute_input": "2024-06-21T18:46:48.871331Z",
     "iopub.status.busy": "2024-06-21T18:46:48.870478Z",
     "iopub.status.idle": "2024-06-21T18:46:48.891085Z",
     "shell.execute_reply": "2024-06-21T18:46:48.889881Z",
     "shell.execute_reply.started": "2024-06-21T18:46:48.871290Z"
    },
    "trusted": true
   },
   "outputs": [],
   "source": [
    "df3.head()"
   ]
  },
  {
   "cell_type": "code",
   "execution_count": null,
   "metadata": {
    "execution": {
     "iopub.execute_input": "2024-06-21T18:46:48.892998Z",
     "iopub.status.busy": "2024-06-21T18:46:48.892526Z",
     "iopub.status.idle": "2024-06-21T18:46:48.906080Z",
     "shell.execute_reply": "2024-06-21T18:46:48.904567Z",
     "shell.execute_reply.started": "2024-06-21T18:46:48.892962Z"
    },
    "trusted": true
   },
   "outputs": [],
   "source": [
    "df3['bhk'].unique()"
   ]
  },
  {
   "cell_type": "code",
   "execution_count": null,
   "metadata": {
    "execution": {
     "iopub.execute_input": "2024-06-21T18:46:48.907925Z",
     "iopub.status.busy": "2024-06-21T18:46:48.907507Z",
     "iopub.status.idle": "2024-06-21T18:46:48.924423Z",
     "shell.execute_reply": "2024-06-21T18:46:48.923296Z",
     "shell.execute_reply.started": "2024-06-21T18:46:48.907886Z"
    },
    "trusted": true
   },
   "outputs": [],
   "source": [
    "df3[df3.bhk>20]"
   ]
  },
  {
   "cell_type": "code",
   "execution_count": null,
   "metadata": {
    "execution": {
     "iopub.execute_input": "2024-06-21T18:46:48.926461Z",
     "iopub.status.busy": "2024-06-21T18:46:48.926058Z",
     "iopub.status.idle": "2024-06-21T18:46:48.937624Z",
     "shell.execute_reply": "2024-06-21T18:46:48.936350Z",
     "shell.execute_reply.started": "2024-06-21T18:46:48.926424Z"
    },
    "trusted": true
   },
   "outputs": [],
   "source": [
    "df3.total_sqft.unique()"
   ]
  },
  {
   "cell_type": "code",
   "execution_count": null,
   "metadata": {
    "execution": {
     "iopub.execute_input": "2024-06-21T18:46:48.939592Z",
     "iopub.status.busy": "2024-06-21T18:46:48.939191Z",
     "iopub.status.idle": "2024-06-21T18:46:48.947083Z",
     "shell.execute_reply": "2024-06-21T18:46:48.945913Z",
     "shell.execute_reply.started": "2024-06-21T18:46:48.939555Z"
    },
    "trusted": true
   },
   "outputs": [],
   "source": [
    "def is_float(x):\n",
    "    try:\n",
    "        float(x)\n",
    "    except:\n",
    "        return False\n",
    "    return True"
   ]
  },
  {
   "cell_type": "code",
   "execution_count": null,
   "metadata": {
    "execution": {
     "iopub.execute_input": "2024-06-21T18:46:48.949782Z",
     "iopub.status.busy": "2024-06-21T18:46:48.949476Z",
     "iopub.status.idle": "2024-06-21T18:46:48.974095Z",
     "shell.execute_reply": "2024-06-21T18:46:48.972879Z",
     "shell.execute_reply.started": "2024-06-21T18:46:48.949757Z"
    },
    "trusted": true
   },
   "outputs": [],
   "source": [
    "df3[~df3['total_sqft'].apply(is_float)].head(10)"
   ]
  },
  {
   "cell_type": "code",
   "execution_count": null,
   "metadata": {
    "execution": {
     "iopub.execute_input": "2024-06-21T18:46:48.976173Z",
     "iopub.status.busy": "2024-06-21T18:46:48.975663Z",
     "iopub.status.idle": "2024-06-21T18:46:48.989219Z",
     "shell.execute_reply": "2024-06-21T18:46:48.987899Z",
     "shell.execute_reply.started": "2024-06-21T18:46:48.976134Z"
    },
    "trusted": true
   },
   "outputs": [],
   "source": [
    "def convert_sqft_to_num(x):\n",
    "    tokens = x.split('-')\n",
    "    if len(tokens) == 2:\n",
    "        return (float(tokens[0])+float(tokens[1]))/2\n",
    "    try:\n",
    "        return float(x)\n",
    "    except:\n",
    "        return None"
   ]
  },
  {
   "cell_type": "code",
   "execution_count": null,
   "metadata": {
    "execution": {
     "iopub.execute_input": "2024-06-21T18:46:48.991128Z",
     "iopub.status.busy": "2024-06-21T18:46:48.990654Z",
     "iopub.status.idle": "2024-06-21T18:46:49.010160Z",
     "shell.execute_reply": "2024-06-21T18:46:49.008697Z",
     "shell.execute_reply.started": "2024-06-21T18:46:48.991091Z"
    },
    "trusted": true
   },
   "outputs": [],
   "source": [
    "convert_sqft_to_num('2000 - 2850 ')"
   ]
  },
  {
   "cell_type": "code",
   "execution_count": null,
   "metadata": {
    "execution": {
     "iopub.execute_input": "2024-06-21T18:46:49.012324Z",
     "iopub.status.busy": "2024-06-21T18:46:49.011969Z",
     "iopub.status.idle": "2024-06-21T18:46:49.027596Z",
     "shell.execute_reply": "2024-06-21T18:46:49.025596Z",
     "shell.execute_reply.started": "2024-06-21T18:46:49.012294Z"
    },
    "trusted": true
   },
   "outputs": [],
   "source": [
    "convert_sqft_to_num('4125Perch')"
   ]
  },
  {
   "cell_type": "code",
   "execution_count": null,
   "metadata": {
    "execution": {
     "iopub.execute_input": "2024-06-21T18:46:49.030538Z",
     "iopub.status.busy": "2024-06-21T18:46:49.029844Z",
     "iopub.status.idle": "2024-06-21T18:46:49.072596Z",
     "shell.execute_reply": "2024-06-21T18:46:49.071497Z",
     "shell.execute_reply.started": "2024-06-21T18:46:49.030496Z"
    },
    "trusted": true
   },
   "outputs": [],
   "source": [
    "df4  = df3.copy()\n",
    "df4['total_sqft'] = df4['total_sqft'].apply(convert_sqft_to_num)\n",
    "df4.head()"
   ]
  },
  {
   "cell_type": "code",
   "execution_count": null,
   "metadata": {
    "execution": {
     "iopub.execute_input": "2024-06-21T18:46:49.074901Z",
     "iopub.status.busy": "2024-06-21T18:46:49.074242Z",
     "iopub.status.idle": "2024-06-21T18:46:49.085536Z",
     "shell.execute_reply": "2024-06-21T18:46:49.084204Z",
     "shell.execute_reply.started": "2024-06-21T18:46:49.074862Z"
    },
    "trusted": true
   },
   "outputs": [],
   "source": [
    "#checking by indexes\n",
    "df4.loc[30]"
   ]
  },
  {
   "cell_type": "code",
   "execution_count": null,
   "metadata": {
    "execution": {
     "iopub.execute_input": "2024-06-21T18:46:49.088065Z",
     "iopub.status.busy": "2024-06-21T18:46:49.087142Z",
     "iopub.status.idle": "2024-06-21T18:46:49.096776Z",
     "shell.execute_reply": "2024-06-21T18:46:49.095194Z",
     "shell.execute_reply.started": "2024-06-21T18:46:49.088019Z"
    },
    "trusted": true
   },
   "outputs": [],
   "source": [
    "df5= df4.copy()"
   ]
  },
  {
   "cell_type": "code",
   "execution_count": null,
   "metadata": {
    "execution": {
     "iopub.execute_input": "2024-06-21T18:46:49.099199Z",
     "iopub.status.busy": "2024-06-21T18:46:49.098541Z",
     "iopub.status.idle": "2024-06-21T18:46:49.125057Z",
     "shell.execute_reply": "2024-06-21T18:46:49.123702Z",
     "shell.execute_reply.started": "2024-06-21T18:46:49.099154Z"
    },
    "trusted": true
   },
   "outputs": [],
   "source": [
    "df5.head()"
   ]
  },
  {
   "cell_type": "code",
   "execution_count": null,
   "metadata": {
    "execution": {
     "iopub.execute_input": "2024-06-21T18:46:49.126800Z",
     "iopub.status.busy": "2024-06-21T18:46:49.126475Z",
     "iopub.status.idle": "2024-06-21T18:46:49.156950Z",
     "shell.execute_reply": "2024-06-21T18:46:49.155663Z",
     "shell.execute_reply.started": "2024-06-21T18:46:49.126771Z"
    },
    "trusted": true
   },
   "outputs": [],
   "source": [
    "df5['price_per_sqft']  = df5['price']*100000/df5['total_sqft']\n",
    "df5.head()"
   ]
  },
  {
   "cell_type": "code",
   "execution_count": null,
   "metadata": {
    "execution": {
     "iopub.execute_input": "2024-06-21T18:46:49.165561Z",
     "iopub.status.busy": "2024-06-21T18:46:49.165223Z",
     "iopub.status.idle": "2024-06-21T18:46:49.175984Z",
     "shell.execute_reply": "2024-06-21T18:46:49.174910Z",
     "shell.execute_reply.started": "2024-06-21T18:46:49.165534Z"
    },
    "trusted": true
   },
   "outputs": [],
   "source": [
    "len(df5['location'].unique())"
   ]
  },
  {
   "cell_type": "code",
   "execution_count": null,
   "metadata": {
    "execution": {
     "iopub.execute_input": "2024-06-21T18:46:49.177829Z",
     "iopub.status.busy": "2024-06-21T18:46:49.177320Z",
     "iopub.status.idle": "2024-06-21T18:46:49.207265Z",
     "shell.execute_reply": "2024-06-21T18:46:49.206147Z",
     "shell.execute_reply.started": "2024-06-21T18:46:49.177774Z"
    },
    "trusted": true
   },
   "outputs": [],
   "source": [
    "df5.location = df5.location.apply(lambda x: x.strip())\n",
    "location_stats = df5.groupby('location')['location'].agg('count').sort_values(ascending=False)\n",
    "location_stats"
   ]
  },
  {
   "cell_type": "code",
   "execution_count": null,
   "metadata": {
    "execution": {
     "iopub.execute_input": "2024-06-21T18:46:49.208996Z",
     "iopub.status.busy": "2024-06-21T18:46:49.208653Z",
     "iopub.status.idle": "2024-06-21T18:46:49.217889Z",
     "shell.execute_reply": "2024-06-21T18:46:49.216295Z",
     "shell.execute_reply.started": "2024-06-21T18:46:49.208968Z"
    },
    "trusted": true
   },
   "outputs": [],
   "source": [
    "len(location_stats[location_stats<=10])\n"
   ]
  },
  {
   "cell_type": "code",
   "execution_count": null,
   "metadata": {
    "execution": {
     "iopub.execute_input": "2024-06-21T18:46:49.220131Z",
     "iopub.status.busy": "2024-06-21T18:46:49.219701Z",
     "iopub.status.idle": "2024-06-21T18:46:49.237671Z",
     "shell.execute_reply": "2024-06-21T18:46:49.236608Z",
     "shell.execute_reply.started": "2024-06-21T18:46:49.220093Z"
    },
    "trusted": true
   },
   "outputs": [],
   "source": [
    "location_stats_less_than_10 = location_stats[location_stats<=10]\n",
    "location_stats_less_than_10"
   ]
  },
  {
   "cell_type": "code",
   "execution_count": null,
   "metadata": {
    "execution": {
     "iopub.execute_input": "2024-06-21T18:46:49.239540Z",
     "iopub.status.busy": "2024-06-21T18:46:49.239166Z",
     "iopub.status.idle": "2024-06-21T18:46:49.261578Z",
     "shell.execute_reply": "2024-06-21T18:46:49.259836Z",
     "shell.execute_reply.started": "2024-06-21T18:46:49.239509Z"
    },
    "trusted": true
   },
   "outputs": [],
   "source": [
    "len(df5.location.unique())"
   ]
  },
  {
   "cell_type": "code",
   "execution_count": null,
   "metadata": {
    "execution": {
     "iopub.execute_input": "2024-06-21T18:46:49.264124Z",
     "iopub.status.busy": "2024-06-21T18:46:49.263365Z",
     "iopub.status.idle": "2024-06-21T18:46:49.319170Z",
     "shell.execute_reply": "2024-06-21T18:46:49.317931Z",
     "shell.execute_reply.started": "2024-06-21T18:46:49.264079Z"
    },
    "trusted": true
   },
   "outputs": [],
   "source": [
    "df5.location = df5.location.apply(lambda x: 'other' if x in location_stats_less_than_10 else x)\n",
    "len(df5.location.unique())"
   ]
  },
  {
   "cell_type": "code",
   "execution_count": null,
   "metadata": {
    "execution": {
     "iopub.execute_input": "2024-06-21T18:46:49.321305Z",
     "iopub.status.busy": "2024-06-21T18:46:49.320701Z",
     "iopub.status.idle": "2024-06-21T18:46:49.341545Z",
     "shell.execute_reply": "2024-06-21T18:46:49.340178Z",
     "shell.execute_reply.started": "2024-06-21T18:46:49.321266Z"
    },
    "trusted": true
   },
   "outputs": [],
   "source": [
    "df5.head(10)"
   ]
  },
  {
   "cell_type": "code",
   "execution_count": null,
   "metadata": {
    "execution": {
     "iopub.execute_input": "2024-06-21T18:46:49.343409Z",
     "iopub.status.busy": "2024-06-21T18:46:49.343013Z",
     "iopub.status.idle": "2024-06-21T18:46:49.363830Z",
     "shell.execute_reply": "2024-06-21T18:46:49.362591Z",
     "shell.execute_reply.started": "2024-06-21T18:46:49.343373Z"
    },
    "trusted": true
   },
   "outputs": [],
   "source": [
    "df5.shape"
   ]
  },
  {
   "cell_type": "code",
   "execution_count": null,
   "metadata": {
    "execution": {
     "iopub.execute_input": "2024-06-21T18:46:49.365885Z",
     "iopub.status.busy": "2024-06-21T18:46:49.365363Z",
     "iopub.status.idle": "2024-06-21T18:46:49.394536Z",
     "shell.execute_reply": "2024-06-21T18:46:49.392891Z",
     "shell.execute_reply.started": "2024-06-21T18:46:49.365844Z"
    },
    "trusted": true
   },
   "outputs": [],
   "source": [
    "df5.head(10)"
   ]
  },
  {
   "cell_type": "code",
   "execution_count": null,
   "metadata": {
    "execution": {
     "iopub.execute_input": "2024-06-21T18:46:49.396566Z",
     "iopub.status.busy": "2024-06-21T18:46:49.396026Z",
     "iopub.status.idle": "2024-06-21T18:46:49.420793Z",
     "shell.execute_reply": "2024-06-21T18:46:49.419526Z",
     "shell.execute_reply.started": "2024-06-21T18:46:49.396414Z"
    },
    "trusted": true
   },
   "outputs": [],
   "source": [
    "df5.shape"
   ]
  },
  {
   "cell_type": "code",
   "execution_count": null,
   "metadata": {
    "execution": {
     "iopub.execute_input": "2024-06-21T18:46:49.422738Z",
     "iopub.status.busy": "2024-06-21T18:46:49.422273Z",
     "iopub.status.idle": "2024-06-21T18:46:49.442429Z",
     "shell.execute_reply": "2024-06-21T18:46:49.441180Z",
     "shell.execute_reply.started": "2024-06-21T18:46:49.422701Z"
    },
    "trusted": true
   },
   "outputs": [],
   "source": [
    "df6 = df5[~(df5.total_sqft/df5.bhk<300)]\n",
    "df6.shape"
   ]
  },
  {
   "cell_type": "code",
   "execution_count": null,
   "metadata": {
    "execution": {
     "iopub.execute_input": "2024-06-21T18:46:49.444481Z",
     "iopub.status.busy": "2024-06-21T18:46:49.444029Z",
     "iopub.status.idle": "2024-06-21T18:46:49.467635Z",
     "shell.execute_reply": "2024-06-21T18:46:49.466449Z",
     "shell.execute_reply.started": "2024-06-21T18:46:49.444446Z"
    },
    "trusted": true
   },
   "outputs": [],
   "source": [
    "df6.price_per_sqft.describe()"
   ]
  },
  {
   "cell_type": "code",
   "execution_count": null,
   "metadata": {
    "execution": {
     "iopub.execute_input": "2024-06-21T18:46:49.469644Z",
     "iopub.status.busy": "2024-06-21T18:46:49.469223Z",
     "iopub.status.idle": "2024-06-21T18:46:49.905340Z",
     "shell.execute_reply": "2024-06-21T18:46:49.904031Z",
     "shell.execute_reply.started": "2024-06-21T18:46:49.469605Z"
    },
    "trusted": true
   },
   "outputs": [],
   "source": [
    "def remove_pps_outliers(df):\n",
    "    df_out = pd.DataFrame()\n",
    "    for key, subdf in df.groupby ('location'):\n",
    "        mean = np.mean(subdf.price_per_sqft)\n",
    "        standerd_deviation = np.std(subdf.price_per_sqft)\n",
    "        reduced_df = subdf[(subdf.price_per_sqft>(mean - standerd_deviation)) & (subdf.price_per_sqft<=(mean + standerd_deviation))]\n",
    "        df_out = pd.concat([df_out, reduced_df], ignore_index=True)\n",
    "    return df_out\n",
    "\n",
    "df7 = remove_pps_outliers(df6)\n",
    "df7.shape"
   ]
  },
  {
   "cell_type": "code",
   "execution_count": null,
   "metadata": {
    "execution": {
     "iopub.execute_input": "2024-06-21T18:46:49.907061Z",
     "iopub.status.busy": "2024-06-21T18:46:49.906630Z",
     "iopub.status.idle": "2024-06-21T18:46:50.396322Z",
     "shell.execute_reply": "2024-06-21T18:46:50.394853Z",
     "shell.execute_reply.started": "2024-06-21T18:46:49.907029Z"
    },
    "trusted": true
   },
   "outputs": [],
   "source": [
    "def plot_scatter_chart(df,location):\n",
    "    bhk2 = df[(df.location==location) & (df.bhk == 2)]\n",
    "    bhk3 = df[(df.location==location) & (df.bhk == 3)]\n",
    "    matplotlib.rcParams['figure.figsize'] = (15,10)\n",
    "    plt.scatter(bhk2.total_sqft,bhk2.price, color ='blue', label ='2 BHK', s = 50)\n",
    "    plt.scatter (bhk3.total_sqft,bhk3.price, marker= '+', label = '3 BHK' , s = 50)\n",
    "    plt.xlabel('Total Square Feet Area')\n",
    "    plt.ylabel('Price Per Square Feet')\n",
    "    plt.title('Location')\n",
    "    plt.legend()\n",
    "\n",
    "    \n",
    "plot_scatter_chart(df7, 'Rajaji Nagar')\n"
   ]
  },
  {
   "cell_type": "code",
   "execution_count": null,
   "metadata": {
    "execution": {
     "iopub.execute_input": "2024-06-21T18:46:50.397957Z",
     "iopub.status.busy": "2024-06-21T18:46:50.397575Z",
     "iopub.status.idle": "2024-06-21T18:46:51.181117Z",
     "shell.execute_reply": "2024-06-21T18:46:51.179833Z",
     "shell.execute_reply.started": "2024-06-21T18:46:50.397924Z"
    },
    "trusted": true
   },
   "outputs": [],
   "source": [
    "import matplotlib.pyplot as plt\n",
    "import seaborn as sns\n",
    "\n",
    "def plot_scatter_chart(df, location):\n",
    "    bhk2 = df[(df.location==location) & (df.bhk == 2)]\n",
    "    bhk3 = df[(df.location==location) & (df.bhk == 3)]\n",
    "    \n",
    "    plt.figure(figsize=(12, 8))  # Adjust figure size\n",
    "    \n",
    "    # Scatter plot for 2 BHK\n",
    "    plt.scatter(bhk2.total_sqft, bhk2.price, color='blue', label='2 BHK', s=60, alpha=0.7, edgecolors='k')\n",
    "    \n",
    "    # Scatter plot for 3 BHK with different marker style\n",
    "    plt.scatter(bhk3.total_sqft, bhk3.price, marker='x', color='red', label='3 BHK', s=60, alpha=0.7, edgecolors='k')\n",
    "    \n",
    "    # Add trend lines\n",
    "    sns.regplot(x=bhk2.total_sqft, y=bhk2.price, scatter=False, color='blue', label='Trendline 2 BHK')\n",
    "    sns.regplot(x=bhk3.total_sqft, y=bhk3.price, scatter=False, color='red', label='Trendline 3 BHK')\n",
    "    \n",
    "    # Annotate median prices\n",
    "    plt.annotate('Median Price 2 BHK', xy=(bhk2.total_sqft.median(), bhk2.price.median()), xytext=(bhk2.total_sqft.median()+200, bhk2.price.median()),\n",
    "                 arrowprops=dict(facecolor='blue', shrink=0.05))\n",
    "    plt.annotate('Median Price 3 BHK', xy=(bhk3.total_sqft.median(), bhk3.price.median()), xytext=(bhk3.total_sqft.median()+200, bhk3.price.median()),\n",
    "                 arrowprops=dict(facecolor='red', shrink=0.05))\n",
    "    \n",
    "    plt.xlabel('Total Square Feet Area')\n",
    "    plt.ylabel('Price Per Square Feet')\n",
    "    plt.title('Price vs Total Square Feet Area in {}'.format(location), fontsize=16)  # Custom title font size\n",
    "    plt.legend(fontsize=12)  # Custom legend font size\n",
    "    plt.grid(True, linestyle='--')  # Add gridlines with dashed style\n",
    "    plt.gca().set_facecolor('#f9f9f9')  # Change background color\n",
    "    \n",
    "    plt.show()\n",
    "\n",
    "# Example usage\n",
    "plot_scatter_chart(df7, 'Rajaji Nagar')\n"
   ]
  },
  {
   "cell_type": "code",
   "execution_count": null,
   "metadata": {
    "execution": {
     "iopub.execute_input": "2024-06-21T18:46:51.183386Z",
     "iopub.status.busy": "2024-06-21T18:46:51.183034Z",
     "iopub.status.idle": "2024-06-21T18:46:51.984559Z",
     "shell.execute_reply": "2024-06-21T18:46:51.983127Z",
     "shell.execute_reply.started": "2024-06-21T18:46:51.183355Z"
    },
    "trusted": true
   },
   "outputs": [],
   "source": [
    "import matplotlib.pyplot as plt\n",
    "import seaborn as sns\n",
    "import numpy as np\n",
    "\n",
    "def plot_scatter_chart(df, location, sample_size=1000):\n",
    "    bhk2 = df[(df.location==location) & (df.bhk == 2)]\n",
    "    bhk3 = df[(df.location==location) & (df.bhk == 3)]\n",
    "    \n",
    "    # Filter out extreme outliers\n",
    "    bhk2_filtered = bhk2[bhk2.price <= np.percentile(bhk2.price, 99)]  # Filter out top 1% of prices\n",
    "    bhk3_filtered = bhk3[bhk3.price <= np.percentile(bhk3.price, 99)]  # Filter out top 1% of prices\n",
    "    \n",
    "    # Sample data to reduce the number of data points\n",
    "    bhk2_sample = bhk2_filtered.sample(n=min(sample_size, len(bhk2_filtered)))  # Added random_state for reproducibility\n",
    "    bhk3_sample = bhk3_filtered.sample(n=min(sample_size, len(bhk3_filtered)))  # Added random_state for reproducibility\n",
    "    \n",
    "    # Set background color\n",
    "    plt.figure(figsize=(20, 10))  # Reduced figure size\n",
    "    \n",
    "    # Scatter plots for 2 BHK and 3 BHK with reduced marker size\n",
    "    plt.scatter(bhk2_sample.total_sqft, bhk2_sample.price, color='blue', label='2 BHK', s=10)  # Reduced marker size\n",
    "    plt.scatter(bhk3_sample.total_sqft, bhk3_sample.price, marker='+', label='3 BHK', s=10)  # Reduced marker size\n",
    "    \n",
    "    # Trend lines\n",
    "    sns.regplot(x=bhk2_sample.total_sqft, y=bhk2_sample.price, scatter=False, color='blue')\n",
    "\n",
    "    sns.regplot(x=bhk3_sample.total_sqft, y=bhk3_sample.price, scatter=False, color='orange')\n",
    "    \n",
    "    # Annotations for median prices with reduced font size\n",
    "    plt.annotate('Median of 2 BHK', xy=(np.median(bhk2_sample.total_sqft), np.median(bhk2_sample.price)), xytext=(np.median(bhk2_sample.total_sqft)+5, np.median(bhk2_sample.price)+50),\n",
    "                 arrowprops=dict(facecolor='blue', shrink=0.01), fontsize=8)  # Reduced font size\n",
    "    plt.annotate('Median of 3 BHK', xy=(np.median(bhk3_sample.total_sqft), np.median(bhk3_sample.price)), xytext=(np.median(bhk3_sample.total_sqft)+5, np.median(bhk3_sample.price)-50),\n",
    "                 arrowprops=dict(facecolor='orange', shrink=0.01), fontsize=8)  # Reduced font size\n",
    "    \n",
    "    # plt.xlim(500,1500) \n",
    "    # plt.ylim(2,10)\n",
    "    plt.xlabel('Total Square Feet Area')\n",
    "    plt.ylabel('Price Per Square Feet')\n",
    "    plt.title('Price vs Total Square Feet Area in {}'.format(location))\n",
    "    plt.legend()\n",
    "    plt.grid(False)\n",
    "    plt.gca().set_facecolor('#f2f2f2')  # Set background color\n",
    "    # plt.yscale('log')\n",
    "    plt.show()\n",
    "    plt.savefig('plot1.png')\n",
    "    \n",
    "    \n",
    "    \n",
    "    \n",
    "# Example usage with reduced sample size\n",
    "plot_scatter_chart(df7, 'Hebbal', sample_size=1000)\n"
   ]
  },
  {
   "cell_type": "code",
   "execution_count": null,
   "metadata": {
    "execution": {
     "iopub.execute_input": "2024-06-21T18:46:51.986788Z",
     "iopub.status.busy": "2024-06-21T18:46:51.986345Z",
     "iopub.status.idle": "2024-06-21T18:46:52.535781Z",
     "shell.execute_reply": "2024-06-21T18:46:52.534773Z",
     "shell.execute_reply.started": "2024-06-21T18:46:51.986750Z"
    },
    "trusted": true
   },
   "outputs": [],
   "source": [
    "def remove_bhk_outliers(df):\n",
    "    exclude_indices = np.array([])\n",
    "    for location, location_df in df.groupby('location'):\n",
    "        bhk_stats = {}\n",
    "        for bhk, bhk_df in location_df.groupby('bhk'):\n",
    "            bhk_stats ['bhk'] = {\n",
    "                'mean': np.mean(bhk_df.price_per_sqft),\n",
    "                'std': np.std(bhk_df.price_per_sqft),\n",
    "                'count': bhk_df.shape[0]\n",
    "            }\n",
    "        for bhk, bhk_df in location_df.groupby('bhk'):\n",
    "            stats = bhk_stats.get(bhk-1)\n",
    "            if stats and stats['count']>5:\n",
    "                exclude_indices= np.append(exclude_indices, bhk_df[bhk_df.price_per_sqft<(stats['means'])].index.values)\n",
    "    return df.drop(exclude_indices, axis = 'index')\n",
    "\n",
    "df8 = remove_bhk_outliers(df7)\n",
    "df8.shape"
   ]
  },
  {
   "cell_type": "code",
   "execution_count": null,
   "metadata": {
    "execution": {
     "iopub.execute_input": "2024-06-21T18:46:52.537585Z",
     "iopub.status.busy": "2024-06-21T18:46:52.537186Z",
     "iopub.status.idle": "2024-06-21T18:46:53.315640Z",
     "shell.execute_reply": "2024-06-21T18:46:53.314248Z",
     "shell.execute_reply.started": "2024-06-21T18:46:52.537548Z"
    },
    "trusted": true
   },
   "outputs": [],
   "source": [
    "plot_scatter_chart(df8, 'Hebbal')"
   ]
  },
  {
   "cell_type": "code",
   "execution_count": null,
   "metadata": {
    "execution": {
     "iopub.execute_input": "2024-06-21T18:46:53.317384Z",
     "iopub.status.busy": "2024-06-21T18:46:53.317054Z",
     "iopub.status.idle": "2024-06-21T18:46:53.557691Z",
     "shell.execute_reply": "2024-06-21T18:46:53.556596Z",
     "shell.execute_reply.started": "2024-06-21T18:46:53.317355Z"
    },
    "trusted": true
   },
   "outputs": [],
   "source": [
    "matplotlib.rcParams['figure.figsize'] = (10,6)\n",
    "\n",
    "plt.hist(df8.price_per_sqft,rwidth = 0.8)\n",
    "plt.gca().set_facecolor('#f2f2f2')\n",
    "plt.xlabel('Price Per Square Feet', color='Yellow')\n",
    "plt.ylabel('Count', color='Yellow')\n",
    "\n"
   ]
  },
  {
   "cell_type": "code",
   "execution_count": null,
   "metadata": {
    "execution": {
     "iopub.execute_input": "2024-06-21T18:46:53.559289Z",
     "iopub.status.busy": "2024-06-21T18:46:53.558979Z",
     "iopub.status.idle": "2024-06-21T18:46:53.567231Z",
     "shell.execute_reply": "2024-06-21T18:46:53.566209Z",
     "shell.execute_reply.started": "2024-06-21T18:46:53.559262Z"
    },
    "trusted": true
   },
   "outputs": [],
   "source": [
    "df8.bath.unique()"
   ]
  },
  {
   "cell_type": "code",
   "execution_count": null,
   "metadata": {
    "execution": {
     "iopub.execute_input": "2024-06-21T18:46:53.568952Z",
     "iopub.status.busy": "2024-06-21T18:46:53.568597Z",
     "iopub.status.idle": "2024-06-21T18:46:53.587051Z",
     "shell.execute_reply": "2024-06-21T18:46:53.585678Z",
     "shell.execute_reply.started": "2024-06-21T18:46:53.568924Z"
    },
    "trusted": true
   },
   "outputs": [],
   "source": [
    "df8[df8.bath>10]"
   ]
  },
  {
   "cell_type": "code",
   "execution_count": null,
   "metadata": {
    "execution": {
     "iopub.execute_input": "2024-06-21T18:46:53.588899Z",
     "iopub.status.busy": "2024-06-21T18:46:53.588516Z",
     "iopub.status.idle": "2024-06-21T18:46:53.897914Z",
     "shell.execute_reply": "2024-06-21T18:46:53.896581Z",
     "shell.execute_reply.started": "2024-06-21T18:46:53.588862Z"
    },
    "trusted": true
   },
   "outputs": [],
   "source": [
    "plt.hist(df8.bath, rwidth=0.8)\n",
    "plt.xlabel('Number of Bathroom')\n",
    "plt.ylabel('Count')\n"
   ]
  },
  {
   "cell_type": "code",
   "execution_count": null,
   "metadata": {
    "execution": {
     "iopub.execute_input": "2024-06-21T18:46:53.899558Z",
     "iopub.status.busy": "2024-06-21T18:46:53.899171Z",
     "iopub.status.idle": "2024-06-21T18:46:53.912174Z",
     "shell.execute_reply": "2024-06-21T18:46:53.911082Z",
     "shell.execute_reply.started": "2024-06-21T18:46:53.899528Z"
    },
    "trusted": true
   },
   "outputs": [],
   "source": [
    "df8[df8.bath>df8.bath+2]"
   ]
  },
  {
   "cell_type": "code",
   "execution_count": null,
   "metadata": {
    "execution": {
     "iopub.execute_input": "2024-06-21T18:46:53.913712Z",
     "iopub.status.busy": "2024-06-21T18:46:53.913417Z",
     "iopub.status.idle": "2024-06-21T18:46:53.924964Z",
     "shell.execute_reply": "2024-06-21T18:46:53.923579Z",
     "shell.execute_reply.started": "2024-06-21T18:46:53.913686Z"
    },
    "trusted": true
   },
   "outputs": [],
   "source": [
    "df8.shape"
   ]
  },
  {
   "cell_type": "code",
   "execution_count": null,
   "metadata": {
    "execution": {
     "iopub.execute_input": "2024-06-21T18:46:53.926680Z",
     "iopub.status.busy": "2024-06-21T18:46:53.926324Z",
     "iopub.status.idle": "2024-06-21T18:46:53.942212Z",
     "shell.execute_reply": "2024-06-21T18:46:53.940872Z",
     "shell.execute_reply.started": "2024-06-21T18:46:53.926649Z"
    },
    "trusted": true
   },
   "outputs": [],
   "source": [
    "df9 = df8[df8.bath<df8.bath+2]\n",
    "df9.shape"
   ]
  },
  {
   "cell_type": "code",
   "execution_count": null,
   "metadata": {
    "execution": {
     "iopub.execute_input": "2024-06-21T18:46:53.944174Z",
     "iopub.status.busy": "2024-06-21T18:46:53.943779Z",
     "iopub.status.idle": "2024-06-21T18:46:53.959388Z",
     "shell.execute_reply": "2024-06-21T18:46:53.958226Z",
     "shell.execute_reply.started": "2024-06-21T18:46:53.944135Z"
    },
    "trusted": true
   },
   "outputs": [],
   "source": [
    "df8.head()"
   ]
  },
  {
   "cell_type": "code",
   "execution_count": null,
   "metadata": {
    "execution": {
     "iopub.execute_input": "2024-06-21T18:46:53.961295Z",
     "iopub.status.busy": "2024-06-21T18:46:53.960886Z",
     "iopub.status.idle": "2024-06-21T18:46:53.980173Z",
     "shell.execute_reply": "2024-06-21T18:46:53.979150Z",
     "shell.execute_reply.started": "2024-06-21T18:46:53.961259Z"
    },
    "trusted": true
   },
   "outputs": [],
   "source": [
    "df10 = df9.drop(['size','price_per_sqft'],axis = 'columns')\n",
    "df10.head(3)"
   ]
  },
  {
   "cell_type": "code",
   "execution_count": null,
   "metadata": {
    "execution": {
     "iopub.execute_input": "2024-06-21T18:46:53.981664Z",
     "iopub.status.busy": "2024-06-21T18:46:53.981363Z",
     "iopub.status.idle": "2024-06-21T18:46:54.009919Z",
     "shell.execute_reply": "2024-06-21T18:46:54.008626Z",
     "shell.execute_reply.started": "2024-06-21T18:46:53.981639Z"
    },
    "trusted": true
   },
   "outputs": [],
   "source": [
    "dumies = pd.get_dummies(df10.location)\n",
    "dumies.head(3)"
   ]
  },
  {
   "cell_type": "code",
   "execution_count": null,
   "metadata": {
    "execution": {
     "iopub.execute_input": "2024-06-21T18:46:54.011729Z",
     "iopub.status.busy": "2024-06-21T18:46:54.011393Z",
     "iopub.status.idle": "2024-06-21T18:46:54.044903Z",
     "shell.execute_reply": "2024-06-21T18:46:54.043703Z",
     "shell.execute_reply.started": "2024-06-21T18:46:54.011701Z"
    },
    "trusted": true
   },
   "outputs": [],
   "source": [
    "df11 = pd.concat([df10, dumies.drop('other',axis = 'columns')], axis='columns')\n",
    "df11.head()"
   ]
  },
  {
   "cell_type": "markdown",
   "metadata": {},
   "source": [
    "now we have the location columns based on dummy data points and now we can drop location column"
   ]
  },
  {
   "cell_type": "code",
   "execution_count": null,
   "metadata": {
    "execution": {
     "iopub.execute_input": "2024-06-21T18:46:54.046701Z",
     "iopub.status.busy": "2024-06-21T18:46:54.046293Z",
     "iopub.status.idle": "2024-06-21T18:46:54.073019Z",
     "shell.execute_reply": "2024-06-21T18:46:54.071801Z",
     "shell.execute_reply.started": "2024-06-21T18:46:54.046664Z"
    },
    "trusted": true
   },
   "outputs": [],
   "source": [
    "df12 = df11.drop('location', axis='columns')\n",
    "df12.head()"
   ]
  },
  {
   "cell_type": "code",
   "execution_count": null,
   "metadata": {
    "execution": {
     "iopub.execute_input": "2024-06-21T18:46:54.074650Z",
     "iopub.status.busy": "2024-06-21T18:46:54.074259Z",
     "iopub.status.idle": "2024-06-21T18:46:54.081753Z",
     "shell.execute_reply": "2024-06-21T18:46:54.080614Z",
     "shell.execute_reply.started": "2024-06-21T18:46:54.074613Z"
    },
    "trusted": true
   },
   "outputs": [],
   "source": [
    "df12.shape"
   ]
  },
  {
   "cell_type": "code",
   "execution_count": null,
   "metadata": {
    "execution": {
     "iopub.execute_input": "2024-06-21T18:46:54.083559Z",
     "iopub.status.busy": "2024-06-21T18:46:54.083151Z",
     "iopub.status.idle": "2024-06-21T18:46:54.117033Z",
     "shell.execute_reply": "2024-06-21T18:46:54.115890Z",
     "shell.execute_reply.started": "2024-06-21T18:46:54.083523Z"
    },
    "trusted": true
   },
   "outputs": [],
   "source": [
    "X = df12.drop('price', axis='columns')\n",
    "X.head()"
   ]
  },
  {
   "cell_type": "code",
   "execution_count": null,
   "metadata": {
    "execution": {
     "iopub.execute_input": "2024-06-21T18:46:54.120713Z",
     "iopub.status.busy": "2024-06-21T18:46:54.120389Z",
     "iopub.status.idle": "2024-06-21T18:46:54.128931Z",
     "shell.execute_reply": "2024-06-21T18:46:54.127753Z",
     "shell.execute_reply.started": "2024-06-21T18:46:54.120686Z"
    },
    "trusted": true
   },
   "outputs": [],
   "source": [
    "y = df12.price\n",
    "y.head()"
   ]
  },
  {
   "cell_type": "code",
   "execution_count": null,
   "metadata": {
    "execution": {
     "iopub.execute_input": "2024-06-21T18:46:54.130668Z",
     "iopub.status.busy": "2024-06-21T18:46:54.130332Z",
     "iopub.status.idle": "2024-06-21T18:46:54.350567Z",
     "shell.execute_reply": "2024-06-21T18:46:54.349543Z",
     "shell.execute_reply.started": "2024-06-21T18:46:54.130641Z"
    },
    "trusted": true
   },
   "outputs": [],
   "source": [
    "from sklearn.model_selection import train_test_split\n",
    "X_train, X_test, y_train, y_test = train_test_split(X,y, test_size=0.2, random_state=10)"
   ]
  },
  {
   "cell_type": "code",
   "execution_count": null,
   "metadata": {
    "execution": {
     "iopub.execute_input": "2024-06-21T18:46:54.352378Z",
     "iopub.status.busy": "2024-06-21T18:46:54.352031Z",
     "iopub.status.idle": "2024-06-21T18:46:54.685621Z",
     "shell.execute_reply": "2024-06-21T18:46:54.684504Z",
     "shell.execute_reply.started": "2024-06-21T18:46:54.352340Z"
    },
    "trusted": true
   },
   "outputs": [],
   "source": [
    "from sklearn.linear_model import LinearRegression\n",
    "lr_clf=  LinearRegression()\n",
    "lr_clf.fit(X_train, y_train)\n",
    "lr_clf.score(X_test,y_test)\n",
    "\n"
   ]
  },
  {
   "cell_type": "code",
   "execution_count": null,
   "metadata": {
    "execution": {
     "iopub.execute_input": "2024-06-21T18:46:54.688015Z",
     "iopub.status.busy": "2024-06-21T18:46:54.687004Z",
     "iopub.status.idle": "2024-06-21T18:46:55.911103Z",
     "shell.execute_reply": "2024-06-21T18:46:55.910035Z",
     "shell.execute_reply.started": "2024-06-21T18:46:54.687975Z"
    },
    "trusted": true
   },
   "outputs": [],
   "source": [
    "from sklearn.model_selection import ShuffleSplit\n",
    "from sklearn.model_selection import cross_val_score\n",
    "\n",
    "cv = ShuffleSplit(n_splits=5, test_size=0.2, random_state=0)\n",
    "\n",
    "cross_val_score(LinearRegression(), X, y, cv=cv)\n"
   ]
  },
  {
   "cell_type": "code",
   "execution_count": null,
   "metadata": {
    "execution": {
     "iopub.execute_input": "2024-06-21T18:46:55.913497Z",
     "iopub.status.busy": "2024-06-21T18:46:55.912486Z",
     "iopub.status.idle": "2024-06-21T18:47:04.156259Z",
     "shell.execute_reply": "2024-06-21T18:47:04.155179Z",
     "shell.execute_reply.started": "2024-06-21T18:46:55.913444Z"
    },
    "trusted": true
   },
   "outputs": [],
   "source": [
    "from sklearn.model_selection import GridSearchCV\n",
    "\n",
    "from sklearn.linear_model import Lasso\n",
    "from sklearn.tree import DecisionTreeRegressor\n",
    "\n",
    "def find_best_model_using_gridsearchcv(X,y):\n",
    "    algos = {\n",
    "        'LinearRegression' : {\n",
    "            'model' : LinearRegression(),\n",
    "            'params' : {\n",
    "              \n",
    "            }\n",
    "        },\n",
    "        'Lasso' : {\n",
    "            'model' : Lasso(),\n",
    "            'params' : {\n",
    "                'alpha' : [1,2],\n",
    "                'selection' : ['random', 'cyclic']\n",
    "            }\n",
    "        },\n",
    "        'decision_tree' : {\n",
    "            'model' : DecisionTreeRegressor(),\n",
    "            'params' : {\n",
    "                'criterion' : ['mse', 'friedman_mse'],\n",
    "                'splitter' : ['best', 'random']\n",
    "            }\n",
    "        }\n",
    "    }\n",
    "\n",
    "    scores = []\n",
    "    cv = ShuffleSplit(n_splits=5, test_size=0.2, random_state=0)\n",
    "\n",
    "    for algo_name, config in algos.items():\n",
    "        gs = GridSearchCV(config['model'], config['params'], cv=cv, return_train_score=False)\n",
    "        gs.fit(X,y)\n",
    "        scores.append({\n",
    "            'model': algo_name,\n",
    "            'best_score': gs.best_score_,\n",
    "            'best_params': gs.best_params_\n",
    "        })\n",
    "    return pd.DataFrame(scores, columns=['model', 'best_score', 'best_params'])\n",
    "\n",
    "find_best_model_using_gridsearchcv(X,y)"
   ]
  },
  {
   "cell_type": "code",
   "execution_count": null,
   "metadata": {
    "execution": {
     "iopub.execute_input": "2024-06-21T18:47:04.157928Z",
     "iopub.status.busy": "2024-06-21T18:47:04.157556Z",
     "iopub.status.idle": "2024-06-21T18:47:04.164318Z",
     "shell.execute_reply": "2024-06-21T18:47:04.163158Z",
     "shell.execute_reply.started": "2024-06-21T18:47:04.157894Z"
    },
    "trusted": true
   },
   "outputs": [],
   "source": [
    "def predict_price(location,sqft,bath,bhk):\n",
    "    loc_index = np.where(X.columns==location)[0][0]\n",
    "\n",
    "    x = np.zeros(len(X.columns))\n",
    "    x[0] = sqft\n",
    "    x[1] = bath\n",
    "    x[2] = bhk\n",
    "    if loc_index>=0:\n",
    "        x[loc_index] = 1\n",
    "\n",
    "    return lr_clf.predict([x])[0]\n",
    "\n"
   ]
  },
  {
   "cell_type": "code",
   "execution_count": null,
   "metadata": {
    "execution": {
     "iopub.execute_input": "2024-06-21T18:47:04.166177Z",
     "iopub.status.busy": "2024-06-21T18:47:04.165838Z",
     "iopub.status.idle": "2024-06-21T18:47:04.185864Z",
     "shell.execute_reply": "2024-06-21T18:47:04.184612Z",
     "shell.execute_reply.started": "2024-06-21T18:47:04.166147Z"
    },
    "trusted": true
   },
   "outputs": [],
   "source": [
    "predict_price('1st Phase JP Nagar', 1000,2,2)"
   ]
  },
  {
   "cell_type": "code",
   "execution_count": null,
   "metadata": {
    "execution": {
     "iopub.execute_input": "2024-06-21T18:47:04.187609Z",
     "iopub.status.busy": "2024-06-21T18:47:04.187226Z",
     "iopub.status.idle": "2024-06-21T18:47:04.201091Z",
     "shell.execute_reply": "2024-06-21T18:47:04.200009Z",
     "shell.execute_reply.started": "2024-06-21T18:47:04.187575Z"
    },
    "trusted": true
   },
   "outputs": [],
   "source": [
    "predict_price('1st Phase JP Nagar', 1000,2,3)"
   ]
  },
  {
   "cell_type": "code",
   "execution_count": null,
   "metadata": {
    "execution": {
     "iopub.execute_input": "2024-06-21T18:47:04.202895Z",
     "iopub.status.busy": "2024-06-21T18:47:04.202471Z",
     "iopub.status.idle": "2024-06-21T18:47:04.216160Z",
     "shell.execute_reply": "2024-06-21T18:47:04.215189Z",
     "shell.execute_reply.started": "2024-06-21T18:47:04.202854Z"
    },
    "trusted": true
   },
   "outputs": [],
   "source": [
    "predict_price('Indira Nagar', 1000,2,2)"
   ]
  },
  {
   "cell_type": "code",
   "execution_count": null,
   "metadata": {
    "execution": {
     "iopub.execute_input": "2024-06-21T18:47:04.218115Z",
     "iopub.status.busy": "2024-06-21T18:47:04.217717Z",
     "iopub.status.idle": "2024-06-21T18:47:04.229444Z",
     "shell.execute_reply": "2024-06-21T18:47:04.228282Z",
     "shell.execute_reply.started": "2024-06-21T18:47:04.218086Z"
    },
    "trusted": true
   },
   "outputs": [],
   "source": [
    "predict_price('Indira Nagar', 1000,3,2)"
   ]
  }
 ],
 "metadata": {
  "kaggle": {
   "accelerator": "gpu",
   "dataSources": [
    {
     "datasetId": 88705,
     "sourceId": 204267,
     "sourceType": "datasetVersion"
    },
    {
     "datasetId": 898072,
     "sourceId": 1523358,
     "sourceType": "datasetVersion"
    },
    {
     "datasetId": 1138397,
     "sourceId": 1909531,
     "sourceType": "datasetVersion"
    },
    {
     "datasetId": 2124944,
     "sourceId": 3532655,
     "sourceType": "datasetVersion"
    },
    {
     "datasetId": 2642334,
     "sourceId": 4521586,
     "sourceType": "datasetVersion"
    },
    {
     "datasetId": 3113714,
     "sourceId": 5365001,
     "sourceType": "datasetVersion"
    },
    {
     "datasetId": 3474192,
     "sourceId": 6070136,
     "sourceType": "datasetVersion"
    },
    {
     "datasetId": 3669400,
     "sourceId": 6368902,
     "sourceType": "datasetVersion"
    },
    {
     "datasetId": 3703429,
     "sourceId": 6420107,
     "sourceType": "datasetVersion"
    },
    {
     "datasetId": 3831083,
     "sourceId": 6636359,
     "sourceType": "datasetVersion"
    },
    {
     "datasetId": 3859674,
     "sourceId": 6694481,
     "sourceType": "datasetVersion"
    },
    {
     "datasetId": 3911251,
     "sourceId": 6807827,
     "sourceType": "datasetVersion"
    },
    {
     "datasetId": 4126647,
     "sourceId": 7147995,
     "sourceType": "datasetVersion"
    },
    {
     "datasetId": 4246446,
     "sourceId": 7317766,
     "sourceType": "datasetVersion"
    },
    {
     "datasetId": 4592113,
     "sourceId": 7834562,
     "sourceType": "datasetVersion"
    },
    {
     "datasetId": 3202774,
     "sourceId": 7981839,
     "sourceType": "datasetVersion"
    }
   ],
   "dockerImageVersionId": 30664,
   "isGpuEnabled": true,
   "isInternetEnabled": false,
   "language": "python",
   "sourceType": "notebook"
  },
  "kernelspec": {
   "display_name": "Python 3",
   "language": "python",
   "name": "python3"
  },
  "language_info": {
   "codemirror_mode": {
    "name": "ipython",
    "version": 3
   },
   "file_extension": ".py",
   "mimetype": "text/x-python",
   "name": "python",
   "nbconvert_exporter": "python",
   "pygments_lexer": "ipython3",
   "version": "3.10.13"
  }
 },
 "nbformat": 4,
 "nbformat_minor": 4
}
